{
 "cells": [
  {
   "cell_type": "code",
   "execution_count": 1,
   "metadata": {},
   "outputs": [],
   "source": [
    "import feedparser"
   ]
  },
  {
   "cell_type": "code",
   "execution_count": 2,
   "metadata": {},
   "outputs": [],
   "source": [
    "# url = 'https://www.fpds.gov/ezsearch/fpdsportal?s=FPDS.GOV&indexName=icdindex&templateName=1.5.2&q=+DEPARTMENT_NAME%3A%22General+Services+Administration%22&rss=1&feed=atom0.3'\n",
    "\n",
    "url = 'https://www.fpds.gov/ezsearch/fpdsportal?s=FPDS&indexName=awardfull&templateName=1.5.1&q=LAST_MOD_DATE%3A%5B2020%2F04%2F02%2C2020%2F04%2F02%5D&rss=1&feed=atom0.3'"
   ]
  },
  {
   "cell_type": "code",
   "execution_count": 3,
   "metadata": {},
   "outputs": [],
   "source": [
    "d = feedparser.parse(url)\n",
    "feed = d.feed"
   ]
  },
  {
   "cell_type": "code",
   "execution_count": 4,
   "metadata": {},
   "outputs": [
    {
     "output_type": "stream",
     "name": "stdout",
     "text": "namespaces: {'': 'http://www.w3.org/2005/Atom', 'ns1': 'https://www.fpds.gov/FPDS'}\n"
    }
   ],
   "source": [
    "print(f'namespaces: {d.namespaces}')"
   ]
  },
  {
   "cell_type": "code",
   "execution_count": 8,
   "metadata": {
    "tags": [
     "outputPrepend"
    ]
   },
   "outputs": [
    {
     "output_type": "error",
     "ename": "AttributeError",
     "evalue": "object has no attribute 'ns1_awardContractID'",
     "traceback": [
      "\u001b[0;31m---------------------------------------------------------------------------\u001b[0m",
      "\u001b[0;31mKeyError\u001b[0m                                  Traceback (most recent call last)",
      "\u001b[0;32m/opt/anaconda3/lib/python3.8/site-packages/feedparser.py\u001b[0m in \u001b[0;36m__getattr__\u001b[0;34m(self, key)\u001b[0m\n\u001b[1;32m    397\u001b[0m         \u001b[0;32mtry\u001b[0m\u001b[0;34m:\u001b[0m\u001b[0;34m\u001b[0m\u001b[0;34m\u001b[0m\u001b[0m\n\u001b[0;32m--> 398\u001b[0;31m             \u001b[0;32mreturn\u001b[0m \u001b[0mself\u001b[0m\u001b[0;34m.\u001b[0m\u001b[0m__getitem__\u001b[0m\u001b[0;34m(\u001b[0m\u001b[0mkey\u001b[0m\u001b[0;34m)\u001b[0m\u001b[0;34m\u001b[0m\u001b[0;34m\u001b[0m\u001b[0m\n\u001b[0m\u001b[1;32m    399\u001b[0m         \u001b[0;32mexcept\u001b[0m \u001b[0mKeyError\u001b[0m\u001b[0;34m:\u001b[0m\u001b[0;34m\u001b[0m\u001b[0;34m\u001b[0m\u001b[0m\n",
      "\u001b[0;32m/opt/anaconda3/lib/python3.8/site-packages/feedparser.py\u001b[0m in \u001b[0;36m__getitem__\u001b[0;34m(self, key)\u001b[0m\n\u001b[1;32m    355\u001b[0m                 \u001b[0;32mreturn\u001b[0m \u001b[0mdict\u001b[0m\u001b[0;34m.\u001b[0m\u001b[0m__getitem__\u001b[0m\u001b[0;34m(\u001b[0m\u001b[0mself\u001b[0m\u001b[0;34m,\u001b[0m \u001b[0mrealkey\u001b[0m\u001b[0;34m)\u001b[0m\u001b[0;34m\u001b[0m\u001b[0;34m\u001b[0m\u001b[0m\n\u001b[0;32m--> 356\u001b[0;31m         \u001b[0;32mreturn\u001b[0m \u001b[0mdict\u001b[0m\u001b[0;34m.\u001b[0m\u001b[0m__getitem__\u001b[0m\u001b[0;34m(\u001b[0m\u001b[0mself\u001b[0m\u001b[0;34m,\u001b[0m \u001b[0mkey\u001b[0m\u001b[0;34m)\u001b[0m\u001b[0;34m\u001b[0m\u001b[0;34m\u001b[0m\u001b[0m\n\u001b[0m\u001b[1;32m    357\u001b[0m \u001b[0;34m\u001b[0m\u001b[0m\n",
      "\u001b[0;31mKeyError\u001b[0m: 'ns1_awardContractID'",
      "\nDuring handling of the above exception, another exception occurred:\n",
      "\u001b[0;31mAttributeError\u001b[0m                            Traceback (most recent call last)",
      "\u001b[0;32m<ipython-input-8-4a9c9188d6bb>\u001b[0m in \u001b[0;36m<module>\u001b[0;34m\u001b[0m\n\u001b[1;32m      2\u001b[0m     \u001b[0;31m# print(f'Entry title: {entry.title}')\u001b[0m\u001b[0;34m\u001b[0m\u001b[0;34m\u001b[0m\u001b[0;34m\u001b[0m\u001b[0m\n\u001b[1;32m      3\u001b[0m     \u001b[0;31m# print(f'Entry.content: {entry.content}')\u001b[0m\u001b[0;34m\u001b[0m\u001b[0;34m\u001b[0m\u001b[0;34m\u001b[0m\u001b[0m\n\u001b[0;32m----> 4\u001b[0;31m     \u001b[0mprint\u001b[0m\u001b[0;34m(\u001b[0m\u001b[0;34mf'entry.award: {entry.ns1_awardContractID}'\u001b[0m\u001b[0;34m)\u001b[0m\u001b[0;34m\u001b[0m\u001b[0;34m\u001b[0m\u001b[0m\n\u001b[0m",
      "\u001b[0;32m/opt/anaconda3/lib/python3.8/site-packages/feedparser.py\u001b[0m in \u001b[0;36m__getattr__\u001b[0;34m(self, key)\u001b[0m\n\u001b[1;32m    398\u001b[0m             \u001b[0;32mreturn\u001b[0m \u001b[0mself\u001b[0m\u001b[0;34m.\u001b[0m\u001b[0m__getitem__\u001b[0m\u001b[0;34m(\u001b[0m\u001b[0mkey\u001b[0m\u001b[0;34m)\u001b[0m\u001b[0;34m\u001b[0m\u001b[0;34m\u001b[0m\u001b[0m\n\u001b[1;32m    399\u001b[0m         \u001b[0;32mexcept\u001b[0m \u001b[0mKeyError\u001b[0m\u001b[0;34m:\u001b[0m\u001b[0;34m\u001b[0m\u001b[0;34m\u001b[0m\u001b[0m\n\u001b[0;32m--> 400\u001b[0;31m             \u001b[0;32mraise\u001b[0m \u001b[0mAttributeError\u001b[0m\u001b[0;34m(\u001b[0m\u001b[0;34m\"object has no attribute '%s'\"\u001b[0m \u001b[0;34m%\u001b[0m \u001b[0mkey\u001b[0m\u001b[0;34m)\u001b[0m\u001b[0;34m\u001b[0m\u001b[0;34m\u001b[0m\u001b[0m\n\u001b[0m\u001b[1;32m    401\u001b[0m \u001b[0;34m\u001b[0m\u001b[0m\n\u001b[1;32m    402\u001b[0m     \u001b[0;32mdef\u001b[0m \u001b[0m__hash__\u001b[0m\u001b[0;34m(\u001b[0m\u001b[0mself\u001b[0m\u001b[0;34m)\u001b[0m\u001b[0;34m:\u001b[0m\u001b[0;34m\u001b[0m\u001b[0;34m\u001b[0m\u001b[0m\n",
      "\u001b[0;31mAttributeError\u001b[0m: object has no attribute 'ns1_awardContractID'"
     ]
    }
   ],
   "source": [
    "for entry in d.entries:\n",
    "    # print(f'Entry title: {entry.title}')\n",
    "    # print(f'Entry.content: {entry.content}')\n",
    "    print(f'entry.award: {entry.ns1_awardContractID}')"
   ]
  },
  {
   "cell_type": "code",
   "execution_count": 23,
   "metadata": {},
   "outputs": [],
   "source": [
    "import atoma, requests"
   ]
  },
  {
   "cell_type": "code",
   "execution_count": 28,
   "metadata": {},
   "outputs": [
    {
     "output_type": "stream",
     "name": "stdout",
     "text": "True\n"
    }
   ],
   "source": [
    "response = requests.get(url)\n",
    "print(response.ok)"
   ]
  },
  {
   "cell_type": "code",
   "execution_count": 34,
   "metadata": {},
   "outputs": [
    {
     "output_type": "stream",
     "name": "stdout",
     "text": "b'<'\nb'?'\nb'x'\nb'm'\nb'l'\nb' '\nb'v'\nb'e'\nb'r'\nb's'\nb'i'\nb'o'\nb'n'\nb'='\nb'\"'\nb'1'\nb'.'\nb'0'\nb'\"'\nb' '\nb'e'\nb'n'\nb'c'\nb'o'\nb'd'\nb'i'\nb'n'\nb'g'\nb'='\nb'\"'\nb'U'\nb'T'\nb'F'\nb'-'\nb'8'\nb'\"'\nb'?'\nb'>'\nb'\\n'\nb'<'\nb'f'\nb'e'\nb'e'\nb'd'\nb' '\nb'x'\nb'm'\nb'l'\nb'n'\nb's'\nb'='\nb'\"'\nb'h'\nb't'\nb't'\nb'p'\nb':'\nb'/'\nb'/'\nb'w'\nb'w'\nb'w'\nb'.'\nb'w'\nb'3'\nb'.'\nb'o'\nb'r'\nb'g'\nb'/'\nb'2'\nb'0'\nb'0'\nb'5'\nb'/'\nb'A'\nb't'\nb'o'\nb'm'\nb'\"'\nb'>'\nb'\\n'\nb' '\nb' '\nb'<'\nb't'\nb'i'\nb't'\nb'l'\nb'e'\nb'>'\nb'F'\nb'P'\nb'D'\nb'S'\nb'-'\nb'N'\nb'G'\nb' '\nb's'\nb'e'\nb'a'\nb'r'\nb'c'\nb'h'\nb' '\nb'r'\nb'e'\nb's'\nb'u'\nb'l'\nb't'\nb's'\nb' '\nb'f'\nb'o'\nb'r'\nb'<'\nb'!'\nb'['\nb'C'\nb'D'\nb'A'\nb'T'\nb'A'\nb'['\nb':'\nb' '\nb'L'\nb'A'\nb'S'\nb'T'\nb'_'\nb'M'\nb'O'\nb'D'\nb'_'\nb'D'\nb'A'\nb'T'\nb'E'\nb':'\nb'['\nb'2'\nb'0'\nb'1'\nb'3'\nb'/'\nb'1'\nb'0'\nb'/'\nb'0'\nb'1'\nb','\nb'2'\nb'0'\nb'1'\nb'4'\nb'/'\nb'0'\nb'9'\nb'/'\nb'3'\nb'0'\nb']'\nb' '\nb'A'\nb'G'\nb'E'\nb'N'\nb'C'\nb'Y'\nb'_'\nb'C'\nb'O'\nb'D'\nb'E'\nb':'\nb'\"'\nb'4'\nb'7'\nb'4'\nb'0'\nb'\"'\nb']'\nb']'\nb'>'\nb'<'\nb'/'\nb't'\nb'i'\nb't'\nb'l'\nb'e'\nb'>'\nb'\\n'\nb' '\nb' '\nb'<'\nb'l'\nb'i'\nb'n'\nb'k'\nb' '\nb'r'\nb'e'\nb'l'\nb'='\nb'\"'\nb'a'\nb'l'\nb't'\nb'e'\nb'r'\nb'n'\nb'a'\nb't'\nb'e'\nb'\"'\nb' '\nb't'\nb'y'\nb'p'\nb'e'\nb'='\nb'\"'\nb't'\nb'e'\nb'x'\nb't'\nb'/'\nb'h'\nb't'\nb'm'\nb'l'\nb'\"'\nb' '\nb'h'\nb'r'\nb'e'\nb'f'\nb'='\nb'\"'\nb'h'\nb't'\nb't'\nb'p'\nb's'\nb':'\nb'/'\nb'/'\nb'w'\nb'w'\nb'w'\nb'.'\nb'f'\nb'p'\nb'd'\nb's'\nb'.'\nb'g'\nb'o'\nb'v'\nb'/'\nb'e'\nb'z'\nb's'\nb'e'\nb'a'\nb'r'\nb'c'\nb'h'\nb'/'\nb's'\nb'e'\nb'a'\nb'r'\nb'c'\nb'h'\nb'.'\nb'd'\nb'o'\nb'?'\nb's'\nb'='\nb'F'\nb'P'\nb'D'\nb'S'\nb'&'\nb'a'\nb'm'\nb'p'\nb';'\nb'i'\nb'n'\nb'd'\nb'e'\nb'x'\nb'N'\nb'a'\nb'm'\nb'e'\nb'='\nb'a'\nb'w'\nb'a'\nb'r'\nb'd'\nb'f'\nb'u'\nb'l'\nb'l'\nb'&'\nb'a'\nb'm'\nb'p'\nb';'\nb't'\nb'e'\nb'm'\nb'p'\nb'l'\nb'a'\nb't'\nb'e'\nb'N'\nb'a'\nb'm'\nb'e'\nb'='\nb'1'\nb'.'\nb'5'\nb'.'\nb'2'\nb'&'\nb'a'\nb'm'\nb'p'\nb';'\nb'q'\nb'='\nb'L'\nb'A'\nb'S'\nb'T'\nb'_'\nb'M'\nb'O'\nb'D'\nb'_'\nb'D'\nb'A'\nb'T'\nb'E'\nb'%'\nb'3'\nb'A'\nb'%'\nb'5'\nb'B'\nb'2'\nb'0'\nb'1'\nb'3'\nb'%'\nb'2'\nb'F'\nb'1'\nb'0'\nb'%'\nb'2'\nb'F'\nb'0'\nb'1'\nb'%'\nb'2'\nb'C'\nb'2'\nb'0'\nb'1'\nb'4'\nb'%'\nb'2'\nb'F'\nb'0'\nb'9'\nb'%'\nb'2'\nb'F'\nb'3'\nb'0'\nb'%'\nb'5'\nb'D'\nb'+'\nb'A'\nb'G'\nb'E'\nb'N'\nb'C'\nb'Y'\nb'_'\nb'C'\nb'O'\nb'D'\nb'E'\nb'%'\nb'3'\nb'A'\nb'%'\nb'2'\nb'2'\nb'4'\nb'7'\nb'4'\nb'0'\nb'%'\nb'2'\nb'2'\nb'&'\nb'a'\nb'm'\nb'p'\nb';'\nb's'\nb't'\nb'a'\nb'r'\nb't'\nb'='\nb'0'\nb'\"'\nb'>'\nb'<'\nb'/'\nb'l'\nb'i'\nb'n'\nb'k'\nb'>'\nb'\\n'\nb' '\nb' '\nb'<'\nb'm'\nb'o'\nb'd'\nb'i'\nb'f'\nb'i'\nb'e'\nb'd'\nb'/'\nb'>'\nb'\\n'\nb' '\nb' '\nb'<'\nb'a'\nb'u'\nb't'\nb'h'\nb'o'\nb'r'\nb'>'\nb'\\n'\nb' '\nb' '\nb' '\nb' '\nb'<'\nb'n'\nb'a'\nb'm'\nb'e'\nb'/'\nb'>'\nb'\\n'\nb' '\nb' '\nb'<'\nb'/'\nb'a'\nb'u'\nb't'\nb'h'\nb'o'\nb'r'\nb'>'\nb'\\n'\nb'<'\nb'/'\nb'f'\nb'e'\nb'e'\nb'd'\nb'>'\n"
    }
   ],
   "source": [
    "for content in response.iter_content():\n",
    "    print(content)\n"
   ]
  },
  {
   "cell_type": "code",
   "execution_count": null,
   "metadata": {},
   "outputs": [],
   "source": []
  }
 ],
 "metadata": {
  "language_info": {
   "codemirror_mode": {
    "name": "ipython",
    "version": 3
   },
   "file_extension": ".py",
   "mimetype": "text/x-python",
   "name": "python",
   "nbconvert_exporter": "python",
   "pygments_lexer": "ipython3",
   "version": "3.8.10-final"
  },
  "orig_nbformat": 2,
  "kernelspec": {
   "name": "python3",
   "display_name": "Python 3"
  }
 },
 "nbformat": 4,
 "nbformat_minor": 2
}