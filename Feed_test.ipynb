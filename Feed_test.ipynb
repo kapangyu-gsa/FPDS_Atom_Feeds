{
 "cells": [
  {
   "cell_type": "markdown",
   "metadata": {},
   "source": [
    "# Feedparser"
   ]
  },
  {
   "cell_type": "code",
   "execution_count": 1,
   "metadata": {},
   "outputs": [],
   "source": [
    "import feedparser"
   ]
  },
  {
   "cell_type": "code",
   "execution_count": 2,
   "metadata": {},
   "outputs": [],
   "source": [
    "# url = 'https://www.fpds.gov/ezsearch/fpdsportal?s=FPDS.GOV&indexName=icdindex&templateName=1.5.2&q=+DEPARTMENT_NAME%3A%22General+Services+Administration%22&rss=1&feed=atom0.3'\n",
    "\n",
    "# url = 'https://www.fpds.gov/ezsearch/fpdsportal?s=FPDS&indexName=awardfull&templateName=1.5.1&q=LAST_MOD_DATE%3A%5B2020%2F04%2F02%2C2020%2F04%2F02%5D&rss=1&feed=atom0.3'\n",
    "\n",
    "url = 'https://www.fpds.gov/ezsearch/fpdsportal?s=FPDS&indexName=awardfull&templateName=1.5.2&q=LAST_MOD_DATE%3A%5B2020%2F04%2F02%2C2020%2F04%2F02%5D&rss=1&feed=atom0.3'"
   ]
  },
  {
   "cell_type": "code",
   "execution_count": 3,
   "metadata": {},
   "outputs": [],
   "source": [
    "d = feedparser.parse(url)\n",
    "feed = d.feed"
   ]
  },
  {
   "cell_type": "code",
   "execution_count": 4,
   "metadata": {},
   "outputs": [
    {
     "output_type": "stream",
     "name": "stdout",
     "text": "namespaces: {'': 'http://www.w3.org/2005/Atom', 'ns1': 'https://www.fpds.gov/FPDS'}\n"
    }
   ],
   "source": [
    "print(f'namespaces: {d.namespaces}')"
   ]
  },
  {
   "cell_type": "code",
   "execution_count": 14,
   "metadata": {
    "tags": [
     "outputPrepend"
    ]
   },
   "outputs": [
    {
     "output_type": "stream",
     "name": "stdout",
     "text": "Entry.content: None\nEntry.content: None\nEntry.content: None\nEntry.content: None\nEntry.content: None\nEntry.content: None\nEntry.content: None\nEntry.content: None\nEntry.content: None\nEntry.content: None\n"
    }
   ],
   "source": [
    "for entry in d.entries:\n",
    "    print(f'Entry.content: {entry.content[0].language}')\n",
    "    # print(f'entry.award: {entry.ns1_award}')"
   ]
  },
  {
   "cell_type": "code",
   "execution_count": null,
   "metadata": {},
   "outputs": [],
   "source": []
  },
  {
   "cell_type": "markdown",
   "metadata": {},
   "source": [
    "# Atoma"
   ]
  },
  {
   "cell_type": "code",
   "execution_count": null,
   "metadata": {},
   "outputs": [],
   "source": [
    "# import atoma, requests"
   ]
  },
  {
   "cell_type": "code",
   "execution_count": null,
   "metadata": {},
   "outputs": [],
   "source": [
    "# response = requests.get(url)\n",
    "# print(response.ok)"
   ]
  },
  {
   "cell_type": "code",
   "execution_count": null,
   "metadata": {},
   "outputs": [],
   "source": [
    "# response.content"
   ]
  },
  {
   "cell_type": "code",
   "execution_count": null,
   "metadata": {},
   "outputs": [],
   "source": [
    "# feed = atoma.parse_atom_file(response.content)"
   ]
  },
  {
   "cell_type": "code",
   "execution_count": null,
   "metadata": {},
   "outputs": [],
   "source": [
    "# feed.title"
   ]
  },
  {
   "cell_type": "code",
   "execution_count": null,
   "metadata": {},
   "outputs": [],
   "source": [
    "# len(feed.items)"
   ]
  },
  {
   "cell_type": "code",
   "execution_count": null,
   "metadata": {},
   "outputs": [],
   "source": []
  }
 ],
 "metadata": {
  "language_info": {
   "codemirror_mode": {
    "name": "ipython",
    "version": 3
   },
   "file_extension": ".py",
   "mimetype": "text/x-python",
   "name": "python",
   "nbconvert_exporter": "python",
   "pygments_lexer": "ipython3",
   "version": "3.8.11-final"
  },
  "orig_nbformat": 2,
  "kernelspec": {
   "name": "python3",
   "display_name": "Python 3 (ipykernel)"
  }
 },
 "nbformat": 4,
 "nbformat_minor": 2
}