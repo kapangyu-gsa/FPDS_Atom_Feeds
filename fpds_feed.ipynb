{
 "cells": [
  {
   "cell_type": "code",
   "execution_count": 1,
   "metadata": {},
   "outputs": [],
   "source": [
    "from lxml import etree\n",
    "import pandas as pd\n",
    "from io import StringIO"
   ]
  },
  {
   "cell_type": "code",
   "execution_count": 2,
   "metadata": {},
   "outputs": [],
   "source": [
    "doc = etree.parse(\"fpds_feed_sample_1_org.xml\")"
   ]
  },
  {
   "cell_type": "code",
   "execution_count": 3,
   "metadata": {},
   "outputs": [],
   "source": [
    "xslt_tree = etree.parse(\"fpds_feed_v3.xsl\")\n",
    "transform = etree.XSLT(xslt_tree)"
   ]
  },
  {
   "cell_type": "code",
   "execution_count": 4,
   "metadata": {},
   "outputs": [],
   "source": [
    "result = transform(doc)"
   ]
  },
  {
   "cell_type": "code",
   "execution_count": 5,
   "metadata": {},
   "outputs": [
    {
     "data": {
      "text/plain": [
       "'agencyID,9701,9700,9700,9700,9700,9700,9700,9700,9700,9700\\nagencyName,DEPT OF DEFENSE,DEPT OF DEFENSE,DEPT OF DEFENSE,DEPT OF DEFENSE,DEPT OF DEFENSE,DEPT OF DEFENSE,DEPT OF DEFENSE,DEPT OF DEFENSE,DEPT OF DEFENSE,DEPT OF DEFENSE\\nother_agencyID,,,,,,,,,,\\n'"
      ]
     },
     "execution_count": 5,
     "metadata": {},
     "output_type": "execute_result"
    }
   ],
   "source": [
    "csv_str =str(result)\n",
    "csv_str"
   ]
  },
  {
   "cell_type": "code",
   "execution_count": 6,
   "metadata": {},
   "outputs": [
    {
     "data": {
      "text/html": [
       "<div>\n",
       "<style scoped>\n",
       "    .dataframe tbody tr th:only-of-type {\n",
       "        vertical-align: middle;\n",
       "    }\n",
       "\n",
       "    .dataframe tbody tr th {\n",
       "        vertical-align: top;\n",
       "    }\n",
       "\n",
       "    .dataframe thead th {\n",
       "        text-align: right;\n",
       "    }\n",
       "</style>\n",
       "<table border=\"1\" class=\"dataframe\">\n",
       "  <thead>\n",
       "    <tr style=\"text-align: right;\">\n",
       "      <th></th>\n",
       "      <th>1</th>\n",
       "      <th>2</th>\n",
       "      <th>3</th>\n",
       "      <th>4</th>\n",
       "      <th>5</th>\n",
       "      <th>6</th>\n",
       "      <th>7</th>\n",
       "      <th>8</th>\n",
       "      <th>9</th>\n",
       "      <th>10</th>\n",
       "    </tr>\n",
       "    <tr>\n",
       "      <th>0</th>\n",
       "      <th></th>\n",
       "      <th></th>\n",
       "      <th></th>\n",
       "      <th></th>\n",
       "      <th></th>\n",
       "      <th></th>\n",
       "      <th></th>\n",
       "      <th></th>\n",
       "      <th></th>\n",
       "      <th></th>\n",
       "    </tr>\n",
       "  </thead>\n",
       "  <tbody>\n",
       "    <tr>\n",
       "      <th>agencyID</th>\n",
       "      <td>9701</td>\n",
       "      <td>9700</td>\n",
       "      <td>9700</td>\n",
       "      <td>9700</td>\n",
       "      <td>9700</td>\n",
       "      <td>9700</td>\n",
       "      <td>9700</td>\n",
       "      <td>9700</td>\n",
       "      <td>9700</td>\n",
       "      <td>9700</td>\n",
       "    </tr>\n",
       "    <tr>\n",
       "      <th>agencyName</th>\n",
       "      <td>DEPT OF DEFENSE</td>\n",
       "      <td>DEPT OF DEFENSE</td>\n",
       "      <td>DEPT OF DEFENSE</td>\n",
       "      <td>DEPT OF DEFENSE</td>\n",
       "      <td>DEPT OF DEFENSE</td>\n",
       "      <td>DEPT OF DEFENSE</td>\n",
       "      <td>DEPT OF DEFENSE</td>\n",
       "      <td>DEPT OF DEFENSE</td>\n",
       "      <td>DEPT OF DEFENSE</td>\n",
       "      <td>DEPT OF DEFENSE</td>\n",
       "    </tr>\n",
       "    <tr>\n",
       "      <th>other_agencyID</th>\n",
       "      <td>NaN</td>\n",
       "      <td>NaN</td>\n",
       "      <td>NaN</td>\n",
       "      <td>NaN</td>\n",
       "      <td>NaN</td>\n",
       "      <td>NaN</td>\n",
       "      <td>NaN</td>\n",
       "      <td>NaN</td>\n",
       "      <td>NaN</td>\n",
       "      <td>NaN</td>\n",
       "    </tr>\n",
       "  </tbody>\n",
       "</table>\n",
       "</div>"
      ],
      "text/plain": [
       "                             1                2                3   \\\n",
       "0                                                                   \n",
       "agencyID                   9701             9700             9700   \n",
       "agencyName      DEPT OF DEFENSE  DEPT OF DEFENSE  DEPT OF DEFENSE   \n",
       "other_agencyID              NaN              NaN              NaN   \n",
       "\n",
       "                             4                5                6   \\\n",
       "0                                                                   \n",
       "agencyID                   9700             9700             9700   \n",
       "agencyName      DEPT OF DEFENSE  DEPT OF DEFENSE  DEPT OF DEFENSE   \n",
       "other_agencyID              NaN              NaN              NaN   \n",
       "\n",
       "                             7                8                9   \\\n",
       "0                                                                   \n",
       "agencyID                   9700             9700             9700   \n",
       "agencyName      DEPT OF DEFENSE  DEPT OF DEFENSE  DEPT OF DEFENSE   \n",
       "other_agencyID              NaN              NaN              NaN   \n",
       "\n",
       "                             10  \n",
       "0                                \n",
       "agencyID                   9700  \n",
       "agencyName      DEPT OF DEFENSE  \n",
       "other_agencyID              NaN  "
      ]
     },
     "execution_count": 6,
     "metadata": {},
     "output_type": "execute_result"
    }
   ],
   "source": [
    "mystr = StringIO(csv_str)\n",
    "\n",
    "df = pd.read_csv(mystr, header=None, index_col=0)\n",
    "df"
   ]
  },
  {
   "cell_type": "code",
   "execution_count": 7,
   "metadata": {},
   "outputs": [
    {
     "data": {
      "text/html": [
       "<div>\n",
       "<style scoped>\n",
       "    .dataframe tbody tr th:only-of-type {\n",
       "        vertical-align: middle;\n",
       "    }\n",
       "\n",
       "    .dataframe tbody tr th {\n",
       "        vertical-align: top;\n",
       "    }\n",
       "\n",
       "    .dataframe thead th {\n",
       "        text-align: right;\n",
       "    }\n",
       "</style>\n",
       "<table border=\"1\" class=\"dataframe\">\n",
       "  <thead>\n",
       "    <tr style=\"text-align: right;\">\n",
       "      <th></th>\n",
       "      <th>agencyID</th>\n",
       "      <th>agencyName</th>\n",
       "      <th>other_agencyID</th>\n",
       "    </tr>\n",
       "  </thead>\n",
       "  <tbody>\n",
       "    <tr>\n",
       "      <th>1</th>\n",
       "      <td>9701</td>\n",
       "      <td>DEPT OF DEFENSE</td>\n",
       "      <td>NaN</td>\n",
       "    </tr>\n",
       "    <tr>\n",
       "      <th>2</th>\n",
       "      <td>9700</td>\n",
       "      <td>DEPT OF DEFENSE</td>\n",
       "      <td>NaN</td>\n",
       "    </tr>\n",
       "    <tr>\n",
       "      <th>3</th>\n",
       "      <td>9700</td>\n",
       "      <td>DEPT OF DEFENSE</td>\n",
       "      <td>NaN</td>\n",
       "    </tr>\n",
       "    <tr>\n",
       "      <th>4</th>\n",
       "      <td>9700</td>\n",
       "      <td>DEPT OF DEFENSE</td>\n",
       "      <td>NaN</td>\n",
       "    </tr>\n",
       "    <tr>\n",
       "      <th>5</th>\n",
       "      <td>9700</td>\n",
       "      <td>DEPT OF DEFENSE</td>\n",
       "      <td>NaN</td>\n",
       "    </tr>\n",
       "    <tr>\n",
       "      <th>6</th>\n",
       "      <td>9700</td>\n",
       "      <td>DEPT OF DEFENSE</td>\n",
       "      <td>NaN</td>\n",
       "    </tr>\n",
       "    <tr>\n",
       "      <th>7</th>\n",
       "      <td>9700</td>\n",
       "      <td>DEPT OF DEFENSE</td>\n",
       "      <td>NaN</td>\n",
       "    </tr>\n",
       "    <tr>\n",
       "      <th>8</th>\n",
       "      <td>9700</td>\n",
       "      <td>DEPT OF DEFENSE</td>\n",
       "      <td>NaN</td>\n",
       "    </tr>\n",
       "    <tr>\n",
       "      <th>9</th>\n",
       "      <td>9700</td>\n",
       "      <td>DEPT OF DEFENSE</td>\n",
       "      <td>NaN</td>\n",
       "    </tr>\n",
       "    <tr>\n",
       "      <th>10</th>\n",
       "      <td>9700</td>\n",
       "      <td>DEPT OF DEFENSE</td>\n",
       "      <td>NaN</td>\n",
       "    </tr>\n",
       "  </tbody>\n",
       "</table>\n",
       "</div>"
      ],
      "text/plain": [
       "0  agencyID       agencyName other_agencyID\n",
       "1      9701  DEPT OF DEFENSE            NaN\n",
       "2      9700  DEPT OF DEFENSE            NaN\n",
       "3      9700  DEPT OF DEFENSE            NaN\n",
       "4      9700  DEPT OF DEFENSE            NaN\n",
       "5      9700  DEPT OF DEFENSE            NaN\n",
       "6      9700  DEPT OF DEFENSE            NaN\n",
       "7      9700  DEPT OF DEFENSE            NaN\n",
       "8      9700  DEPT OF DEFENSE            NaN\n",
       "9      9700  DEPT OF DEFENSE            NaN\n",
       "10     9700  DEPT OF DEFENSE            NaN"
      ]
     },
     "execution_count": 7,
     "metadata": {},
     "output_type": "execute_result"
    }
   ],
   "source": [
    "df_new = df.transpose(copy=True)\n",
    "df_new"
   ]
  },
  {
   "cell_type": "code",
   "execution_count": 223,
   "metadata": {},
   "outputs": [],
   "source": [
    "# output dataframe to a .csv file\n",
    "df_new.to_csv(\"fpds_feed_result.csv\", index=False)"
   ]
  },
  {
   "cell_type": "code",
   "execution_count": null,
   "metadata": {},
   "outputs": [],
   "source": []
  }
 ],
 "metadata": {
  "interpreter": {
   "hash": "40d3a090f54c6569ab1632332b64b2c03c39dcf918b08424e98f38b5ae0af88f"
  },
  "kernelspec": {
   "display_name": "Python 3.8.11 64-bit ('base': conda)",
   "name": "python3"
  },
  "language_info": {
   "codemirror_mode": {
    "name": "ipython",
    "version": 3
   },
   "file_extension": ".py",
   "mimetype": "text/x-python",
   "name": "python",
   "nbconvert_exporter": "python",
   "pygments_lexer": "ipython3",
   "version": "3.8.11"
  },
  "orig_nbformat": 2
 },
 "nbformat": 4,
 "nbformat_minor": 2
}
