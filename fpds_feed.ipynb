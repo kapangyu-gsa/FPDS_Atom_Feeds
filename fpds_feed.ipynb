{
 "cells": [
  {
   "cell_type": "code",
   "execution_count": 18,
   "metadata": {},
   "outputs": [],
   "source": [
    "from lxml import etree"
   ]
  },
  {
   "cell_type": "code",
   "execution_count": 19,
   "metadata": {},
   "outputs": [],
   "source": [
    "# doc = etree.parse(\"fpds_feed_sample_1.xml\")\n",
    "doc = etree.parse(\"fpds_feed_sample_1_org.xml\")"
   ]
  },
  {
   "cell_type": "code",
   "execution_count": 20,
   "metadata": {},
   "outputs": [],
   "source": [
    "xslt_tree = etree.parse(\"fpds_feed_v2.xsl\")\n",
    "transform = etree.XSLT(xslt_tree)"
   ]
  },
  {
   "cell_type": "code",
   "execution_count": 21,
   "metadata": {},
   "outputs": [],
   "source": [
    "result = transform(doc)"
   ]
  },
  {
   "cell_type": "code",
   "execution_count": 22,
   "metadata": {},
   "outputs": [
    {
     "data": {
      "text/plain": [
       "'agencyID,PIID,modNumber,transactionNumber,agencyID,PIID,modNumber\\n9701,0001,0,0,9701,0001,09700,0001,0,0,9700,0001,09700,0001,0,0,9700,0001,09700,0001,0,0,9700,0001,09700,0001,0,0,9700,0001,09700,0001,0,0,9700,0001,09700,0001,0,0,9700,0001,09700,0001,0,0,9700,0001,09700,0001,0,0,9700,0001,09700,0001,11,0,9700,0001,119700,N0017811D6668,0,,9700,N0017811D6668,09700,N0017812D7077,0,,9700,N0017812D7077,09700,N0017814D7171,0,,9700,N0017814D7171,09700,N0017814D7174,0,,9700,N0017814D7174,09700,N0017815D8340,0,,9700,N0017815D8340,09700,N0017816D8902,0,,9700,N0017816D8902,09700,SPE4A716D0258,0,,9700,SPE4A716D0258,09700,W15P7T09DW201,0,,9700,W15P7T09DW201,09700,W81K0417A0003,0,,9700,W81K0417A0003,09700,W91RUS15D0015,0,,9700,W91RUS15D0015,0\\n'"
      ]
     },
     "execution_count": 22,
     "metadata": {},
     "output_type": "execute_result"
    }
   ],
   "source": [
    "str(result)"
   ]
  },
  {
   "cell_type": "code",
   "execution_count": 17,
   "metadata": {},
   "outputs": [],
   "source": [
    "with open(\"fpds_feed_result.csv\", 'w', encoding=\"UTF8\") as f:\n",
    "    f.write(str(result))"
   ]
  },
  {
   "cell_type": "code",
   "execution_count": null,
   "metadata": {},
   "outputs": [],
   "source": []
  }
 ],
 "metadata": {
  "interpreter": {
   "hash": "40d3a090f54c6569ab1632332b64b2c03c39dcf918b08424e98f38b5ae0af88f"
  },
  "kernelspec": {
   "display_name": "Python 3.8.11 64-bit ('base': conda)",
   "name": "python3"
  },
  "language_info": {
   "codemirror_mode": {
    "name": "ipython",
    "version": 3
   },
   "file_extension": ".py",
   "mimetype": "text/x-python",
   "name": "python",
   "nbconvert_exporter": "python",
   "pygments_lexer": "ipython3",
   "version": "3.8.11"
  },
  "orig_nbformat": 2
 },
 "nbformat": 4,
 "nbformat_minor": 2
}
