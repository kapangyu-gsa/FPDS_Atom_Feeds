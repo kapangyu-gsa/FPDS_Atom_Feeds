{
 "cells": [
  {
   "cell_type": "code",
   "execution_count": 3,
   "metadata": {},
   "outputs": [],
   "source": [
    "from lxml import etree\n",
    "import pandas as pd\n",
    "from io import StringIO\n",
    "import requests\n",
    "from urllib.parse import quote_plus"
   ]
  },
  {
   "cell_type": "code",
   "execution_count": 5,
   "metadata": {},
   "outputs": [
    {
     "name": "stdout",
     "output_type": "stream",
     "text": [
      "https://www.fpds.gov/ezsearch/fpdsportal?s=FPDS.GOV&indexName=awardfull&templateName=1.5.2&rss=1&feed=atom0.3&q=+LAST_MOD_DATE%3A%5B2021%2F11%2F28%2C2021%2F11%2F28%5D\n"
     ]
    }
   ],
   "source": [
    "# url = 'https://www.fpds.gov/ezsearch/fpdsportal?s=FPDS&indexName=awardfull&templateName=1.5.2&q=LAST_MOD_DATE%3A%5B2020%2F04%2F02%2C2020%2F04%2F02%5D&rss=1&feed=atom0.3'\n",
    "# url = 'https://www.fpds.gov/ezsearch/fpdsportal?s=FPDS.GOV&indexName=icdindex&templateName=1.5.2&q=+DEPARTMENT_NAME%3A%22General+Services+Administration%22&rss=1&feed=atom0.3'\n",
    "# url = 'https://www.fpds.gov/ezsearch/search.do?indexName=awardfull&templateName=1.5.2&s=FPDS.GOV&q=financial+assistance+actions&rss=1&feed=atom0.3'\n",
    "# url = 'https://www.fpds.gov/ezsearch/fpdsportal?s=FPDS.GOV&indexName=awardfull&templateName=1.5.2&rss=1&feed=atom0.3&q=+LAST_MOD_DATE%3A%5B2021%2F10%2F01%2C2021%2F11%2F01%5D'\n",
    "\n",
    "base_url = 'https://www.fpds.gov/ezsearch/fpdsportal?s=FPDS.GOV&indexName=awardfull&templateName=1.5.2&rss=1&feed=atom0.3&q=+'\n",
    "start_date = '2021/11/28'\n",
    "end_date = '2021/11/28'\n",
    "param = f'LAST_MOD_DATE:[{start_date},{end_date}]'\n",
    "\n",
    "url = base_url + quote_plus(param)\n",
    "\n",
    "print(url)\n"
   ]
  },
  {
   "cell_type": "code",
   "execution_count": null,
   "metadata": {},
   "outputs": [],
   "source": [
    "response = requests.get(url)\n",
    "print(response.ok)"
   ]
  },
  {
   "cell_type": "code",
   "execution_count": null,
   "metadata": {},
   "outputs": [],
   "source": [
    "doc = etree.XML(response.content)"
   ]
  },
  {
   "cell_type": "code",
   "execution_count": null,
   "metadata": {},
   "outputs": [],
   "source": [
    "xslt_tree = etree.parse(\"fpds_feed.xsl\")\n",
    "transform = etree.XSLT(xslt_tree)"
   ]
  },
  {
   "cell_type": "code",
   "execution_count": null,
   "metadata": {},
   "outputs": [],
   "source": [
    "result = transform(doc)"
   ]
  },
  {
   "cell_type": "code",
   "execution_count": null,
   "metadata": {},
   "outputs": [],
   "source": [
    "csv_str =str(result)\n",
    "# csv_str"
   ]
  },
  {
   "cell_type": "code",
   "execution_count": null,
   "metadata": {},
   "outputs": [],
   "source": [
    "mystr = StringIO(csv_str)\n",
    "\n",
    "df = pd.read_csv(mystr, sep=\"\\t\", header=None, index_col=0)\n",
    "df.head(10)"
   ]
  },
  {
   "cell_type": "code",
   "execution_count": null,
   "metadata": {},
   "outputs": [],
   "source": [
    "df_new = df.transpose(copy=True)\n",
    "df_new.iloc[:, :10]"
   ]
  },
  {
   "cell_type": "code",
   "execution_count": null,
   "metadata": {},
   "outputs": [],
   "source": [
    "df_new.shape"
   ]
  },
  {
   "cell_type": "code",
   "execution_count": null,
   "metadata": {},
   "outputs": [],
   "source": [
    "# output dataframe to a .csv file\n",
    "df_new.to_csv(\"fpds_feed_result.csv\", index=False)"
   ]
  },
  {
   "cell_type": "markdown",
   "metadata": {},
   "source": [
    "# Get count of records returned"
   ]
  },
  {
   "cell_type": "code",
   "execution_count": null,
   "metadata": {},
   "outputs": [],
   "source": [
    "f = StringIO(response.text)\n",
    "tree = etree.XML(response.content)\n",
    "href = tree.xpath(\"/f:feed/f:link[@rel = 'last']/@href\", namespaces={'f': 'http://www.w3.org/2005/Atom'})[0]\n",
    "print(href)"
   ]
  },
  {
   "cell_type": "code",
   "execution_count": null,
   "metadata": {},
   "outputs": [],
   "source": [
    "import re\n",
    "\n",
    "x = re.search(\"start=(\\d+)$\", href)\n",
    "print(x.group(1))\n"
   ]
  },
  {
   "cell_type": "markdown",
   "metadata": {},
   "source": [
    "# Test fpds_feed_requests"
   ]
  },
  {
   "cell_type": "code",
   "execution_count": 6,
   "metadata": {},
   "outputs": [],
   "source": [
    "from fpds_feed_requests import requests"
   ]
  },
  {
   "cell_type": "code",
   "execution_count": 11,
   "metadata": {},
   "outputs": [
    {
     "data": {
      "text/plain": [
       "<generator object as_completed at 0x7fb6893273c0>"
      ]
     },
     "execution_count": 11,
     "metadata": {},
     "output_type": "execute_result"
    }
   ],
   "source": [
    "req = requests(base_url)\n",
    "req.get(param, start_index=0, max_workers = 2)"
   ]
  },
  {
   "cell_type": "markdown",
   "metadata": {},
   "source": [
    "# Test fpds_feed_reader"
   ]
  },
  {
   "cell_type": "code",
   "execution_count": 15,
   "metadata": {},
   "outputs": [],
   "source": [
    "from fpds_feed_reader import feed_reader"
   ]
  },
  {
   "cell_type": "code",
   "execution_count": 16,
   "metadata": {},
   "outputs": [],
   "source": [
    "reader = feed_reader()\n"
   ]
  },
  {
   "cell_type": "code",
   "execution_count": 18,
   "metadata": {},
   "outputs": [
    {
     "name": "stdout",
     "output_type": "stream",
     "text": [
      "Requesting data (~18680 rows) from the feed...\n",
      "request #: 0, start index: 0, processing time: 4.11 secs\n",
      "request #: 1, start index: 100, processing time: 5.46 secs\n",
      "request #: 2, start index: 200, processing time: 3.65 secs\n",
      "request #: 3, start index: 300, processing time: 4.10 secs\n",
      "request #: 4, start index: 400, processing time: 3.90 secs\n",
      "request #: 5, start index: 500, processing time: 3.86 secs\n",
      "request #: 6, start index: 600, processing time: 4.14 secs\n",
      "request #: 7, start index: 700, processing time: 4.18 secs\n",
      "request #: 8, start index: 800, processing time: 4.10 secs\n",
      "request #: 9, start index: 900, processing time: 4.96 secs\n",
      "output batch #: 0, rows: 1000, processing time: 0.10 secs\n",
      "request #: 10, start index: 1000, processing time: 3.71 secs\n",
      "request #: 11, start index: 1100, processing time: 3.89 secs\n",
      "request #: 12, start index: 1200, processing time: 4.10 secs\n",
      "request #: 13, start index: 1300, processing time: 3.94 secs\n",
      "request #: 14, start index: 1400, processing time: 4.00 secs\n",
      "request #: 15, start index: 1500, processing time: 4.21 secs\n",
      "request #: 16, start index: 1600, processing time: 4.51 secs\n",
      "request #: 17, start index: 1700, processing time: 3.93 secs\n",
      "request #: 18, start index: 1800, processing time: 3.99 secs\n",
      "request #: 19, start index: 1900, processing time: 4.40 secs\n",
      "output batch #: 1, rows: 1000, processing time: 0.11 secs\n",
      "request #: 20, start index: 2000, processing time: 4.16 secs\n",
      "request #: 21, start index: 2100, processing time: 4.14 secs\n",
      "request #: 22, start index: 2200, processing time: 4.06 secs\n",
      "request #: 23, start index: 2300, processing time: 4.07 secs\n",
      "request #: 24, start index: 2400, processing time: 4.64 secs\n",
      "request #: 25, start index: 2500, processing time: 4.75 secs\n",
      "request #: 26, start index: 2600, processing time: 4.64 secs\n",
      "request #: 27, start index: 2700, processing time: 4.11 secs\n",
      "request #: 28, start index: 2800, processing time: 4.09 secs\n",
      "request #: 29, start index: 2900, processing time: 3.86 secs\n",
      "output batch #: 2, rows: 1000, processing time: 0.12 secs\n",
      "request #: 30, start index: 3000, processing time: 4.55 secs\n",
      "request #: 31, start index: 3100, processing time: 4.26 secs\n",
      "request #: 32, start index: 3200, processing time: 4.17 secs\n",
      "request #: 33, start index: 3300, processing time: 4.21 secs\n",
      "request #: 34, start index: 3400, processing time: 3.71 secs\n",
      "request #: 35, start index: 3500, processing time: 3.71 secs\n",
      "request #: 36, start index: 3600, processing time: 4.20 secs\n",
      "request #: 37, start index: 3700, processing time: 4.34 secs\n",
      "request #: 38, start index: 3800, processing time: 4.05 secs\n",
      "request #: 39, start index: 3900, processing time: 4.63 secs\n",
      "output batch #: 3, rows: 1000, processing time: 0.11 secs\n",
      "request #: 40, start index: 4000, processing time: 3.76 secs\n",
      "request #: 41, start index: 4100, processing time: 4.46 secs\n",
      "request #: 42, start index: 4200, processing time: 3.67 secs\n",
      "request #: 43, start index: 4300, processing time: 3.94 secs\n",
      "request #: 44, start index: 4400, processing time: 3.83 secs\n",
      "request #: 45, start index: 4500, processing time: 4.19 secs\n",
      "request #: 46, start index: 4600, processing time: 3.95 secs\n",
      "request #: 47, start index: 4700, processing time: 3.69 secs\n",
      "request #: 48, start index: 4800, processing time: 3.86 secs\n",
      "request #: 49, start index: 4900, processing time: 4.28 secs\n",
      "output batch #: 4, rows: 1000, processing time: 0.11 secs\n",
      "request #: 50, start index: 5000, processing time: 3.64 secs\n",
      "request #: 51, start index: 5100, processing time: 3.89 secs\n",
      "request #: 52, start index: 5200, processing time: 3.59 secs\n",
      "request #: 53, start index: 5300, processing time: 3.77 secs\n",
      "request #: 54, start index: 5400, processing time: 3.85 secs\n",
      "request #: 55, start index: 5500, processing time: 3.72 secs\n",
      "request #: 56, start index: 5600, processing time: 4.19 secs\n",
      "request #: 57, start index: 5700, processing time: 4.03 secs\n",
      "request #: 58, start index: 5800, processing time: 3.50 secs\n",
      "request #: 59, start index: 5900, processing time: 3.68 secs\n",
      "output batch #: 5, rows: 1000, processing time: 0.11 secs\n",
      "request #: 60, start index: 6000, processing time: 3.57 secs\n",
      "request #: 61, start index: 6100, processing time: 4.34 secs\n",
      "request #: 62, start index: 6200, processing time: 3.44 secs\n",
      "request #: 63, start index: 6300, processing time: 3.65 secs\n",
      "request #: 64, start index: 6400, processing time: 3.56 secs\n",
      "request #: 65, start index: 6500, processing time: 3.60 secs\n",
      "request #: 66, start index: 6600, processing time: 3.68 secs\n",
      "request #: 67, start index: 6700, processing time: 3.55 secs\n",
      "request #: 68, start index: 6800, processing time: 3.62 secs\n",
      "request #: 69, start index: 6900, processing time: 3.55 secs\n",
      "output batch #: 6, rows: 1000, processing time: 0.11 secs\n",
      "request #: 70, start index: 7000, processing time: 3.66 secs\n",
      "request #: 71, start index: 7100, processing time: 3.66 secs\n",
      "request #: 72, start index: 7200, processing time: 3.66 secs\n",
      "request #: 73, start index: 7300, processing time: 3.60 secs\n",
      "request #: 74, start index: 7400, processing time: 3.62 secs\n",
      "request #: 75, start index: 7500, processing time: 3.69 secs\n",
      "request #: 76, start index: 7600, processing time: 4.02 secs\n",
      "request #: 77, start index: 7700, processing time: 4.12 secs\n",
      "request #: 78, start index: 7800, processing time: 3.69 secs\n",
      "request #: 79, start index: 7900, processing time: 3.57 secs\n",
      "output batch #: 7, rows: 1000, processing time: 0.12 secs\n",
      "request #: 80, start index: 8000, processing time: 3.87 secs\n",
      "request #: 81, start index: 8100, processing time: 3.82 secs\n",
      "request #: 82, start index: 8200, processing time: 3.65 secs\n",
      "request #: 83, start index: 8300, processing time: 3.73 secs\n",
      "request #: 84, start index: 8400, processing time: 3.59 secs\n",
      "request #: 85, start index: 8500, processing time: 3.83 secs\n",
      "request #: 86, start index: 8600, processing time: 3.69 secs\n",
      "request #: 87, start index: 8700, processing time: 3.66 secs\n",
      "request #: 88, start index: 8800, processing time: 4.19 secs\n",
      "request #: 89, start index: 8900, processing time: 3.80 secs\n",
      "output batch #: 8, rows: 1000, processing time: 0.11 secs\n",
      "request #: 90, start index: 9000, processing time: 3.62 secs\n",
      "request #: 91, start index: 9100, processing time: 4.12 secs\n",
      "request #: 92, start index: 9200, processing time: 3.62 secs\n",
      "request #: 93, start index: 9300, processing time: 4.00 secs\n",
      "request #: 94, start index: 9400, processing time: 3.88 secs\n",
      "request #: 95, start index: 9500, processing time: 3.86 secs\n",
      "request #: 96, start index: 9600, processing time: 3.77 secs\n",
      "request #: 97, start index: 9700, processing time: 3.59 secs\n",
      "request #: 98, start index: 9800, processing time: 3.59 secs\n",
      "request #: 99, start index: 9900, processing time: 3.71 secs\n",
      "output batch #: 9, rows: 1000, processing time: 0.11 secs\n",
      "request #: 100, start index: 10000, processing time: 3.92 secs\n",
      "request #: 101, start index: 10100, processing time: 3.90 secs\n",
      "request #: 102, start index: 10200, processing time: 3.61 secs\n",
      "request #: 103, start index: 10300, processing time: 3.61 secs\n",
      "request #: 104, start index: 10400, processing time: 3.92 secs\n",
      "request #: 105, start index: 10500, processing time: 3.82 secs\n",
      "request #: 106, start index: 10600, processing time: 4.00 secs\n",
      "request #: 107, start index: 10700, processing time: 3.69 secs\n",
      "request #: 108, start index: 10800, processing time: 3.54 secs\n",
      "request #: 109, start index: 10900, processing time: 4.27 secs\n",
      "output batch #: 10, rows: 1000, processing time: 0.09 secs\n",
      "request #: 110, start index: 11000, processing time: 3.71 secs\n",
      "request #: 111, start index: 11100, processing time: 3.73 secs\n",
      "request #: 112, start index: 11200, processing time: 3.64 secs\n",
      "request #: 113, start index: 11300, processing time: 3.60 secs\n",
      "request #: 114, start index: 11400, processing time: 3.70 secs\n",
      "request #: 115, start index: 11500, processing time: 3.69 secs\n",
      "request #: 116, start index: 11600, processing time: 3.90 secs\n",
      "request #: 117, start index: 11700, processing time: 3.65 secs\n",
      "request #: 118, start index: 11800, processing time: 3.58 secs\n",
      "request #: 119, start index: 11900, processing time: 3.79 secs\n",
      "output batch #: 11, rows: 1000, processing time: 0.11 secs\n",
      "request #: 120, start index: 12000, processing time: 3.71 secs\n",
      "request #: 121, start index: 12100, processing time: 3.66 secs\n",
      "request #: 122, start index: 12200, processing time: 3.57 secs\n",
      "request #: 123, start index: 12300, processing time: 3.66 secs\n",
      "request #: 124, start index: 12400, processing time: 4.01 secs\n",
      "request #: 125, start index: 12500, processing time: 4.58 secs\n",
      "request #: 126, start index: 12600, processing time: 3.64 secs\n",
      "request #: 127, start index: 12700, processing time: 3.76 secs\n",
      "request #: 128, start index: 12800, processing time: 4.02 secs\n",
      "request #: 129, start index: 12900, processing time: 3.63 secs\n",
      "output batch #: 12, rows: 1000, processing time: 0.11 secs\n",
      "request #: 130, start index: 13000, processing time: 3.85 secs\n",
      "request #: 131, start index: 13100, processing time: 3.76 secs\n",
      "request #: 132, start index: 13200, processing time: 3.64 secs\n",
      "request #: 133, start index: 13300, processing time: 3.87 secs\n",
      "request #: 134, start index: 13400, processing time: 3.79 secs\n",
      "request #: 135, start index: 13500, processing time: 3.55 secs\n",
      "request #: 136, start index: 13600, processing time: 3.72 secs\n",
      "request #: 137, start index: 13700, processing time: 3.48 secs\n",
      "request #: 138, start index: 13800, processing time: 3.86 secs\n",
      "request #: 139, start index: 13900, processing time: 3.88 secs\n",
      "output batch #: 13, rows: 1000, processing time: 0.11 secs\n",
      "request #: 140, start index: 14000, processing time: 3.78 secs\n",
      "request #: 141, start index: 14100, processing time: 4.15 secs\n",
      "request #: 142, start index: 14200, processing time: 3.92 secs\n",
      "request #: 143, start index: 14300, processing time: 3.65 secs\n",
      "request #: 144, start index: 14400, processing time: 3.55 secs\n",
      "request #: 145, start index: 14500, processing time: 4.66 secs\n",
      "request #: 146, start index: 14600, processing time: 3.64 secs\n",
      "request #: 147, start index: 14700, processing time: 3.84 secs\n",
      "request #: 148, start index: 14800, processing time: 3.73 secs\n",
      "request #: 149, start index: 14900, processing time: 3.72 secs\n",
      "output batch #: 14, rows: 1000, processing time: 0.11 secs\n",
      "request #: 150, start index: 15000, processing time: 3.86 secs\n",
      "request #: 151, start index: 15100, processing time: 3.89 secs\n",
      "request #: 152, start index: 15200, processing time: 3.66 secs\n",
      "request #: 153, start index: 15300, processing time: 3.79 secs\n",
      "request #: 154, start index: 15400, processing time: 3.69 secs\n",
      "request #: 155, start index: 15500, processing time: 3.55 secs\n",
      "request #: 156, start index: 15600, processing time: 3.79 secs\n",
      "request #: 157, start index: 15700, processing time: 4.03 secs\n",
      "request #: 158, start index: 15800, processing time: 3.95 secs\n",
      "request #: 159, start index: 15900, processing time: 3.74 secs\n",
      "output batch #: 15, rows: 1000, processing time: 0.11 secs\n",
      "request #: 160, start index: 16000, processing time: 3.66 secs\n",
      "request #: 161, start index: 16100, processing time: 3.67 secs\n",
      "request #: 162, start index: 16200, processing time: 3.62 secs\n",
      "request #: 163, start index: 16300, processing time: 3.64 secs\n",
      "request #: 164, start index: 16400, processing time: 3.71 secs\n",
      "request #: 165, start index: 16500, processing time: 3.72 secs\n",
      "request #: 166, start index: 16600, processing time: 3.53 secs\n",
      "request #: 167, start index: 16700, processing time: 3.64 secs\n",
      "request #: 168, start index: 16800, processing time: 3.67 secs\n",
      "request #: 169, start index: 16900, processing time: 3.84 secs\n",
      "output batch #: 16, rows: 1000, processing time: 0.11 secs\n",
      "request #: 170, start index: 17000, processing time: 3.79 secs\n",
      "request #: 171, start index: 17100, processing time: 3.62 secs\n",
      "request #: 172, start index: 17200, processing time: 3.73 secs\n",
      "request #: 173, start index: 17300, processing time: 4.17 secs\n",
      "request #: 174, start index: 17400, processing time: 3.69 secs\n",
      "request #: 175, start index: 17500, processing time: 3.69 secs\n",
      "request #: 176, start index: 17600, processing time: 3.58 secs\n",
      "request #: 177, start index: 17700, processing time: 3.69 secs\n",
      "request #: 178, start index: 17800, processing time: 3.78 secs\n",
      "request #: 179, start index: 17900, processing time: 3.59 secs\n",
      "output batch #: 17, rows: 1000, processing time: 0.11 secs\n",
      "request #: 180, start index: 18000, processing time: 3.63 secs\n",
      "request #: 181, start index: 18100, processing time: 3.91 secs\n",
      "request #: 182, start index: 18200, processing time: 3.62 secs\n",
      "request #: 183, start index: 18300, processing time: 3.62 secs\n",
      "request #: 184, start index: 18400, processing time: 3.79 secs\n",
      "request #: 185, start index: 18500, processing time: 3.56 secs\n",
      "request #: 186, start index: 18600, processing time: 3.64 secs\n",
      "output batch #: 18, rows: 700, processing time: 0.08 secs\n"
     ]
    }
   ],
   "source": [
    "reader.get_data(param)"
   ]
  },
  {
   "cell_type": "markdown",
   "metadata": {},
   "source": [
    "# Test Multi-threaded Requests "
   ]
  },
  {
   "cell_type": "code",
   "execution_count": null,
   "metadata": {},
   "outputs": [],
   "source": [
    "import requests\n",
    "from concurrent.futures import ThreadPoolExecutor, as_completed\n",
    "from time import time\n",
    "\n",
    "url_list = [(start, url + f\"&start={start}\") for start in range(0, 100, 10)]\n",
    "# print(url_list)\n",
    "\n",
    "def download_file(url, index):\n",
    "    response = requests.get(url, stream=True)\n",
    "    # return response.content\n",
    "    return index\n",
    "\n",
    "start = time()\n",
    "\n",
    "processes = []\n",
    "with ThreadPoolExecutor(max_workers=10) as executor:\n",
    "    for url in url_list:\n",
    "        processes.append(executor.submit(download_file, url[1], url[0]))\n",
    "\n",
    "for task in as_completed(processes):\n",
    "    print(task.result())\n",
    "\n",
    "\n",
    "print(f'Time taken: {time() - start}')"
   ]
  },
  {
   "cell_type": "code",
   "execution_count": null,
   "metadata": {},
   "outputs": [],
   "source": [
    "from fpds_feed_requests import requests as t_requests\n",
    "from xml_transform import transform"
   ]
  },
  {
   "cell_type": "code",
   "execution_count": null,
   "metadata": {},
   "outputs": [],
   "source": [
    "t = transform(\"fpds_feed.xsl\")\n",
    "req = t_requests(base_url)\n",
    "iter = req.get(param, start_index=42200, max_workers=10)\n",
    "results = []\n",
    "df = None\n",
    "for task in iter:\n",
    "    # results.append(task.result())\n",
    "    df = t.to_dataframe(task.result())\n",
    "\n",
    "df.index"
   ]
  },
  {
   "cell_type": "code",
   "execution_count": null,
   "metadata": {},
   "outputs": [],
   "source": []
  },
  {
   "cell_type": "code",
   "execution_count": null,
   "metadata": {},
   "outputs": [],
   "source": [
    "from fpds_feed_reader import feed_reader\n",
    "from datetime import date, timedelta"
   ]
  },
  {
   "cell_type": "code",
   "execution_count": null,
   "metadata": {},
   "outputs": [],
   "source": [
    "reader = feed_reader()\n",
    "created_date = date(1979, 1 , 15)\n",
    "end_date = date.today()\n",
    "\n",
    "while created_date <= end_date:\n",
    "    cd = created_date.strftime(\"%Y/%m/%d\")\n",
    "    print(cd)\n",
    "    param = f\"CREATED_DATE:[{cd},{cd}]\"\n",
    "    reader.get_data(param)\n",
    "    created_date += timedelta(days=1)"
   ]
  },
  {
   "cell_type": "code",
   "execution_count": 12,
   "metadata": {},
   "outputs": [
    {
     "data": {
      "text/plain": [
       "datetime.datetime(2021, 12, 1, 0, 0)"
      ]
     },
     "execution_count": 12,
     "metadata": {},
     "output_type": "execute_result"
    }
   ],
   "source": [
    "\n",
    "\n",
    "my_date = \"2021-12-01\"\n",
    "datetime.datetime.strptime(my_date, \"%Y-%m-%d\")\n",
    "\n"
   ]
  },
  {
   "cell_type": "code",
   "execution_count": null,
   "metadata": {},
   "outputs": [],
   "source": []
  }
 ],
 "metadata": {
  "interpreter": {
   "hash": "40d3a090f54c6569ab1632332b64b2c03c39dcf918b08424e98f38b5ae0af88f"
  },
  "kernelspec": {
   "display_name": "Python 3.8.11 64-bit ('base': conda)",
   "name": "python3"
  },
  "language_info": {
   "codemirror_mode": {
    "name": "ipython",
    "version": 3
   },
   "file_extension": ".py",
   "mimetype": "text/x-python",
   "name": "python",
   "nbconvert_exporter": "python",
   "pygments_lexer": "ipython3",
   "version": "3.8.11"
  },
  "orig_nbformat": 2
 },
 "nbformat": 4,
 "nbformat_minor": 2
}
