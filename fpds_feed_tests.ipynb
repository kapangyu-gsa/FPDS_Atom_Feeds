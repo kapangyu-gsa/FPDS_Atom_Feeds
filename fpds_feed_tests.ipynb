{
 "cells": [
  {
   "cell_type": "code",
   "execution_count": 1,
   "metadata": {},
   "outputs": [],
   "source": [
    "from lxml import etree\n",
    "import pandas as pd\n",
    "from io import StringIO\n",
    "import requests\n",
    "from urllib.parse import quote_plus"
   ]
  },
  {
   "cell_type": "code",
   "execution_count": 2,
   "metadata": {},
   "outputs": [
    {
     "name": "stdout",
     "output_type": "stream",
     "text": [
      "https://www.fpds.gov/ezsearch/fpdsportal?s=FPDS.GOV&indexName=awardfull&templateName=1.5.2&rss=1&feed=atom0.3&q=+LAST_MOD_DATE%3A%5B2021%2F11%2F28%2C2021%2F11%2F28%5D\n"
     ]
    }
   ],
   "source": [
    "# url = 'https://www.fpds.gov/ezsearch/fpdsportal?s=FPDS&indexName=awardfull&templateName=1.5.2&q=LAST_MOD_DATE%3A%5B2020%2F04%2F02%2C2020%2F04%2F02%5D&rss=1&feed=atom0.3'\n",
    "# url = 'https://www.fpds.gov/ezsearch/fpdsportal?s=FPDS.GOV&indexName=icdindex&templateName=1.5.2&q=+DEPARTMENT_NAME%3A%22General+Services+Administration%22&rss=1&feed=atom0.3'\n",
    "# url = 'https://www.fpds.gov/ezsearch/search.do?indexName=awardfull&templateName=1.5.2&s=FPDS.GOV&q=financial+assistance+actions&rss=1&feed=atom0.3'\n",
    "# url = 'https://www.fpds.gov/ezsearch/fpdsportal?s=FPDS.GOV&indexName=awardfull&templateName=1.5.2&rss=1&feed=atom0.3&q=+LAST_MOD_DATE%3A%5B2021%2F10%2F01%2C2021%2F11%2F01%5D'\n",
    "\n",
    "base_url = 'https://www.fpds.gov/ezsearch/fpdsportal?s=FPDS.GOV&indexName=awardfull&templateName=1.5.2&rss=1&feed=atom0.3&q=+'\n",
    "start_date = '2021/11/28'\n",
    "end_date = '2021/11/28'\n",
    "param = f'LAST_MOD_DATE:[{start_date},{end_date}]'\n",
    "\n",
    "url = base_url + quote_plus(param)\n",
    "\n",
    "print(url)\n"
   ]
  },
  {
   "cell_type": "code",
   "execution_count": null,
   "metadata": {},
   "outputs": [],
   "source": [
    "response = requests.get(url)\n",
    "print(response.ok)"
   ]
  },
  {
   "cell_type": "code",
   "execution_count": null,
   "metadata": {},
   "outputs": [],
   "source": [
    "doc = etree.XML(response.content)"
   ]
  },
  {
   "cell_type": "code",
   "execution_count": null,
   "metadata": {},
   "outputs": [],
   "source": [
    "xslt_tree = etree.parse(\"fpds_feed.xsl\")\n",
    "transform = etree.XSLT(xslt_tree)"
   ]
  },
  {
   "cell_type": "code",
   "execution_count": null,
   "metadata": {},
   "outputs": [],
   "source": [
    "result = transform(doc)"
   ]
  },
  {
   "cell_type": "code",
   "execution_count": null,
   "metadata": {},
   "outputs": [],
   "source": [
    "csv_str =str(result)\n",
    "# csv_str"
   ]
  },
  {
   "cell_type": "code",
   "execution_count": null,
   "metadata": {},
   "outputs": [],
   "source": [
    "mystr = StringIO(csv_str)\n",
    "\n",
    "df = pd.read_csv(mystr, sep=\"\\t\", header=None, index_col=0)\n",
    "df.head(10)"
   ]
  },
  {
   "cell_type": "code",
   "execution_count": null,
   "metadata": {},
   "outputs": [],
   "source": [
    "df_new = df.transpose(copy=True)\n",
    "df_new.iloc[:, :10]"
   ]
  },
  {
   "cell_type": "code",
   "execution_count": null,
   "metadata": {},
   "outputs": [],
   "source": [
    "df_new.shape"
   ]
  },
  {
   "cell_type": "code",
   "execution_count": null,
   "metadata": {},
   "outputs": [],
   "source": [
    "# output dataframe to a .csv file\n",
    "df_new.to_csv(\"fpds_feed_result.csv\", index=False)"
   ]
  },
  {
   "cell_type": "markdown",
   "metadata": {},
   "source": [
    "# Get count of records returned"
   ]
  },
  {
   "cell_type": "code",
   "execution_count": null,
   "metadata": {},
   "outputs": [],
   "source": [
    "f = StringIO(response.text)\n",
    "tree = etree.XML(response.content)\n",
    "href = tree.xpath(\"/f:feed/f:link[@rel = 'last']/@href\", namespaces={'f': 'http://www.w3.org/2005/Atom'})[0]\n",
    "print(href)"
   ]
  },
  {
   "cell_type": "code",
   "execution_count": null,
   "metadata": {},
   "outputs": [],
   "source": [
    "import re\n",
    "\n",
    "x = re.search(\"start=(\\d+)$\", href)\n",
    "print(x.group(1))\n"
   ]
  },
  {
   "cell_type": "markdown",
   "metadata": {},
   "source": [
    "# Test fpds_feed_requests"
   ]
  },
  {
   "cell_type": "code",
   "execution_count": null,
   "metadata": {},
   "outputs": [],
   "source": [
    "from fpds_feed_requests import requests"
   ]
  },
  {
   "cell_type": "code",
   "execution_count": null,
   "metadata": {},
   "outputs": [],
   "source": [
    "req = requests(base_url)\n",
    "req.get(param, start_index=0, max_workers = 2)"
   ]
  },
  {
   "cell_type": "markdown",
   "metadata": {},
   "source": [
    "# Test fpds_feed_reader"
   ]
  },
  {
   "cell_type": "code",
   "execution_count": 3,
   "metadata": {},
   "outputs": [],
   "source": [
    "from fpds_feed_reader import feed_reader"
   ]
  },
  {
   "cell_type": "code",
   "execution_count": 4,
   "metadata": {},
   "outputs": [],
   "source": [
    "reader = feed_reader()\n"
   ]
  },
  {
   "cell_type": "code",
   "execution_count": 5,
   "metadata": {},
   "outputs": [
    {
     "name": "stdout",
     "output_type": "stream",
     "text": [
      "Requesting data (~18180 rows) from the feed...\n"
     ]
    },
    {
     "ename": "TypeError",
     "evalue": "decorator() got an unexpected keyword argument 'max_workers'",
     "output_type": "error",
     "traceback": [
      "\u001b[0;31m---------------------------------------------------------------------------\u001b[0m",
      "\u001b[0;31mTypeError\u001b[0m                                 Traceback (most recent call last)",
      "\u001b[0;32m/var/folders/lm/86dwbp456dn57zh5nkwj85k00000gp/T/ipykernel_23389/2303515870.py\u001b[0m in \u001b[0;36m<module>\u001b[0;34m\u001b[0m\n\u001b[0;32m----> 1\u001b[0;31m \u001b[0mreader\u001b[0m\u001b[0;34m.\u001b[0m\u001b[0mget_data\u001b[0m\u001b[0;34m(\u001b[0m\u001b[0mparam\u001b[0m\u001b[0;34m)\u001b[0m\u001b[0;34m\u001b[0m\u001b[0;34m\u001b[0m\u001b[0m\n\u001b[0m",
      "\u001b[0;32m~/Projects/FPDS_Atom_Feeds/fpds_feed_reader.py\u001b[0m in \u001b[0;36mget_data\u001b[0;34m(self, param, **kwargs)\u001b[0m\n\u001b[1;32m     97\u001b[0m         \u001b[0mprint\u001b[0m\u001b[0;34m(\u001b[0m\u001b[0;34mf\"Requesting data (~{stop_index} rows) from the feed...\"\u001b[0m\u001b[0;34m)\u001b[0m\u001b[0;34m\u001b[0m\u001b[0;34m\u001b[0m\u001b[0m\n\u001b[1;32m     98\u001b[0m         \u001b[0;32mfor\u001b[0m \u001b[0mstart_index\u001b[0m \u001b[0;32min\u001b[0m \u001b[0mrange\u001b[0m\u001b[0;34m(\u001b[0m\u001b[0;36m0\u001b[0m\u001b[0;34m,\u001b[0m \u001b[0mstop_index\u001b[0m\u001b[0;34m,\u001b[0m \u001b[0mstep\u001b[0m\u001b[0;34m)\u001b[0m\u001b[0;34m:\u001b[0m\u001b[0;34m\u001b[0m\u001b[0;34m\u001b[0m\u001b[0m\n\u001b[0;32m---> 99\u001b[0;31m             \u001b[0mbatch_results\u001b[0m \u001b[0;34m+=\u001b[0m \u001b[0mself\u001b[0m\u001b[0;34m.\u001b[0m\u001b[0m_request_data\u001b[0m\u001b[0;34m(\u001b[0m\u001b[0mrequest_num\u001b[0m\u001b[0;34m,\u001b[0m \u001b[0mparam\u001b[0m\u001b[0;34m,\u001b[0m \u001b[0mstart_index\u001b[0m\u001b[0;34m,\u001b[0m \u001b[0mmax_workers\u001b[0m\u001b[0;34m=\u001b[0m\u001b[0mmax_workers\u001b[0m\u001b[0;34m)\u001b[0m\u001b[0;34m\u001b[0m\u001b[0;34m\u001b[0m\u001b[0m\n\u001b[0m\u001b[1;32m    100\u001b[0m             \u001b[0mrequest_num\u001b[0m \u001b[0;34m+=\u001b[0m \u001b[0;36m1\u001b[0m\u001b[0;34m\u001b[0m\u001b[0;34m\u001b[0m\u001b[0m\n\u001b[1;32m    101\u001b[0m             \u001b[0;31m# output the results to a file when the batch is full\u001b[0m\u001b[0;34m\u001b[0m\u001b[0;34m\u001b[0m\u001b[0;34m\u001b[0m\u001b[0m\n",
      "\u001b[0;31mTypeError\u001b[0m: decorator() got an unexpected keyword argument 'max_workers'"
     ]
    }
   ],
   "source": [
    "reader.get_data(param)"
   ]
  },
  {
   "cell_type": "markdown",
   "metadata": {},
   "source": [
    "# Test Multi-threaded Requests "
   ]
  },
  {
   "cell_type": "code",
   "execution_count": null,
   "metadata": {},
   "outputs": [],
   "source": [
    "import requests\n",
    "from concurrent.futures import ThreadPoolExecutor, as_completed\n",
    "from time import time\n",
    "\n",
    "url_list = [(start, url + f\"&start={start}\") for start in range(0, 100, 10)]\n",
    "# print(url_list)\n",
    "\n",
    "def download_file(url, index):\n",
    "    response = requests.get(url, stream=True)\n",
    "    # return response.content\n",
    "    return index\n",
    "\n",
    "start = time()\n",
    "\n",
    "processes = []\n",
    "with ThreadPoolExecutor(max_workers=10) as executor:\n",
    "    for url in url_list:\n",
    "        processes.append(executor.submit(download_file, url[1], url[0]))\n",
    "\n",
    "for task in as_completed(processes):\n",
    "    print(task.result())\n",
    "\n",
    "\n",
    "print(f'Time taken: {time() - start}')"
   ]
  },
  {
   "cell_type": "code",
   "execution_count": null,
   "metadata": {},
   "outputs": [],
   "source": [
    "from fpds_feed_requests import requests as t_requests\n",
    "from xml_transform import transform"
   ]
  },
  {
   "cell_type": "code",
   "execution_count": null,
   "metadata": {},
   "outputs": [],
   "source": [
    "t = transform(\"fpds_feed.xsl\")\n",
    "req = t_requests(base_url)\n",
    "iter = req.get(param, start_index=42200, max_workers=10)\n",
    "results = []\n",
    "df = None\n",
    "for task in iter:\n",
    "    # results.append(task.result())\n",
    "    df = t.to_dataframe(task.result())\n",
    "\n",
    "df.index"
   ]
  },
  {
   "cell_type": "code",
   "execution_count": null,
   "metadata": {},
   "outputs": [],
   "source": []
  },
  {
   "cell_type": "code",
   "execution_count": null,
   "metadata": {},
   "outputs": [],
   "source": [
    "from fpds_feed_reader import feed_reader\n",
    "from datetime import date, timedelta"
   ]
  },
  {
   "cell_type": "code",
   "execution_count": null,
   "metadata": {},
   "outputs": [],
   "source": [
    "reader = feed_reader()\n",
    "created_date = date(1979, 1 , 15)\n",
    "end_date = date.today()\n",
    "\n",
    "while created_date <= end_date:\n",
    "    cd = created_date.strftime(\"%Y/%m/%d\")\n",
    "    print(cd)\n",
    "    param = f\"CREATED_DATE:[{cd},{cd}]\"\n",
    "    reader.get_data(param)\n",
    "    created_date += timedelta(days=1)"
   ]
  },
  {
   "cell_type": "code",
   "execution_count": null,
   "metadata": {},
   "outputs": [],
   "source": [
    "\n",
    "\n",
    "my_date = \"2021-12-01\"\n",
    "datetime.datetime.strptime(my_date, \"%Y-%m-%d\")\n",
    "\n"
   ]
  },
  {
   "cell_type": "code",
   "execution_count": 1,
   "metadata": {},
   "outputs": [
    {
     "name": "stdout",
     "output_type": "stream",
     "text": [
      "<class 'function'>\n"
     ]
    }
   ],
   "source": [
    "def my_func(x,y):\n",
    "    return x+y\n",
    "\n",
    "print(type(my_func))\n"
   ]
  },
  {
   "cell_type": "code",
   "execution_count": null,
   "metadata": {},
   "outputs": [],
   "source": []
  }
 ],
 "metadata": {
  "interpreter": {
   "hash": "40d3a090f54c6569ab1632332b64b2c03c39dcf918b08424e98f38b5ae0af88f"
  },
  "kernelspec": {
   "display_name": "Python 3.8.12 64-bit ('base': conda)",
   "name": "python3"
  },
  "language_info": {
   "codemirror_mode": {
    "name": "ipython",
    "version": 3
   },
   "file_extension": ".py",
   "mimetype": "text/x-python",
   "name": "python",
   "nbconvert_exporter": "python",
   "pygments_lexer": "ipython3",
   "version": "3.8.12"
  },
  "orig_nbformat": 2
 },
 "nbformat": 4,
 "nbformat_minor": 2
}
